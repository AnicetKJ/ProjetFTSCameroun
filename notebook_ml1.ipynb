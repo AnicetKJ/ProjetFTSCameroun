{
 "cells": [
  {
   "cell_type": "markdown",
   "id": "#VSC-b6ea3f09",
   "metadata": {
    "language": "markdown"
   },
   "source": [
    "# FTS Cameroun — Projet ML end‑to‑end\n",
    "\n",
    "Objectifs : prédire le **taux de financement** (ou l'**écart de financement**) par *global cluster* pour l'année suivante.\n",
    "\n",
    "Ce notebook couvre : EDA → feature engineering → split temporel → entraînement → validation walk‑forward → interprétation → export modèle."
   ]
  },
  {
   "cell_type": "code",
   "execution_count": 11,
   "id": "#VSC-42a334b3",
   "metadata": {
    "language": "python"
   },
   "outputs": [],
   "source": [
    "# 1) Imports de base\n",
    "import pandas as pd\n",
    "import numpy as np\n",
    "import matplotlib.pyplot as plt\n",
    "from pathlib import Path\n",
    "from IPython.display import display\n",
    "\n",
    "# ML\n",
    "from sklearn.model_selection import TimeSeriesSplit\n",
    "from sklearn.preprocessing import OneHotEncoder\n",
    "from sklearn.compose import ColumnTransformer\n",
    "from sklearn.pipeline import Pipeline\n",
    "from sklearn.metrics import mean_absolute_error, mean_absolute_percentage_error\n",
    "from sklearn.linear_model import Ridge\n",
    "from sklearn.ensemble import RandomForestRegressor\n",
    "\n",
    "plt.rcParams['figure.figsize'] = (9, 5)"
   ]
  },
  {
   "cell_type": "code",
   "execution_count": null,
   "id": "#VSC-fb1cc2c4",
   "metadata": {
    "language": "python"
   },
   "outputs": [],
   "source": [
    "# 2) Chargement\n",
    "DATA_PATH = Path('fts_requirements_funding_globalcluster_cmr.csv')  # adapter si besoin\n",
    "df = pd.read_csv(DATA_PATH)\n",
    "df.columns = [c.strip().lower().replace(' ', '_') for c in df.columns]\n",
    "df = df[['year', 'clustercode', 'cluster', 'requirements', 'funding', 'percentfunded']].copy()\n",
    "\n",
    "# Types\n",
    "df['year'] = pd.to_numeric(df['year'], errors='coerce').astype('Int64')\n",
    "for c in ['requirements', 'funding', 'percentfunded']:\n",
    "    df[c] = pd.to_numeric(df[c], errors='coerce')\n",
    "\n",
    "df = df.dropna(subset=['year', 'clustercode'])\n",
    "\n",
    "# Cibles utiles\n",
    "df['funding_rate'] = np.where(df['requirements']>0, df['funding']/df['requirements'], np.nan)\n",
    "df['gap'] = df['requirements'] - df['funding']\n",
    "\n",
    "df.head()"
   ]
  },
  {
   "cell_type": "code",
   "execution_count": null,
   "id": "#VSC-c024deb8",
   "metadata": {
    "language": "python"
   },
   "outputs": [],
   "source": [
    "# 3) EDA rapide\n",
    "annual = (df.groupby('year')[['requirements','funding']].sum()\n",
    "            .reset_index().sort_values('year'))\n",
    "annual['funding_rate'] = np.where(annual['requirements']>0, annual['funding']/annual['requirements'], np.nan)\n",
    "annual['gap'] = annual['requirements'] - annual['funding']\n",
    "\n",
    "display(annual.head(10))\n",
    "\n",
    "plt.figure()\n",
    "plt.plot(annual['year'], annual['requirements'], marker='o', label='Requirements')\n",
    "plt.plot(annual['year'], annual['funding'], marker='o', label='Funding')\n",
    "plt.title('Requirements vs Funding (annuel)')\n",
    "plt.xlabel('Year'); plt.ylabel('USD'); plt.legend(); plt.tight_layout(); plt.show()"
   ]
  },
  {
   "cell_type": "code",
   "execution_count": null,
   "id": "#VSC-547df111",
   "metadata": {
    "language": "python"
   },
   "outputs": [],
   "source": [
    "# 4) Feature engineering (lags et dynamiques) au niveau cluster-année\n",
    "def add_lags(g, cols=('requirements','funding','funding_rate','gap'), lags=(1,2,3)):\n",
    "    g = g.sort_values('year').copy()\n",
    "    for col in cols:\n",
    "        for L in lags:\n",
    "            g[f'{col}_lag{L}'] = g[col].shift(L)\n",
    "    # variations\n",
    "    g['req_yoy'] = g['requirements'] - g['requirements'].shift(1)\n",
    "    g['fund_yoy'] = g['funding'] - g['funding'].shift(1)\n",
    "    # pente récente (2 ans)\n",
    "    for col in ['requirements','funding','funding_rate']:\n",
    "        g[f'{col}_slope2'] = g[col].diff().rolling(2).mean()\n",
    "    return g\n",
    "\n",
    "Xy = (df.groupby('clustercode', group_keys=False)\n",
    "        .apply(add_lags)\n",
    "        .dropna(subset=['funding_rate']))\n",
    "\n",
    "# Objectif : prédire funding_rate de l'année courante à partir d'historique (lags)\n",
    "target_col = 'funding_rate'\n",
    "feature_num = [c for c in Xy.columns if any(k in c for k in ['lag','yoy','slope'])]\n",
    "feature_cat = ['clustercode']\n",
    "\n",
    "Xy = Xy.dropna(subset=feature_num + [target_col]).copy()\n",
    "X = Xy[feature_num + feature_cat + ['year']].copy()\n",
    "y = Xy[target_col].copy()\n",
    "\n",
    "X.head()"
   ]
  },
  {
   "cell_type": "code",
   "execution_count": null,
   "id": "#VSC-cf6dbee7",
   "metadata": {
    "language": "python"
   },
   "outputs": [],
   "source": [
    "# 5) Split temporel (train: années initiales, test: dernières années) + pipeline\n",
    "min_year, max_year = int(X['year'].min()), int(X['year'].max())\n",
    "cut_year = max_year - 1  # garder la dernière année pour test de tenue hors-échantillon\n",
    "\n",
    "X_train = X[X['year'] <= cut_year].copy()\n",
    "y_train = y.loc[X_train.index]\n",
    "X_test  = X[X['year'] > cut_year].copy()\n",
    "y_test  = y.loc[X_test.index]\n",
    "\n",
    "pre = ColumnTransformer([\n",
    "    ('onehot', OneHotEncoder(handle_unknown='ignore'), feature_cat)\n",
    "], remainder='passthrough')\n",
    "\n",
    "models = {\n",
    "    'ridge': Ridge(alpha=1.0, random_state=42),\n",
    "    'rf': RandomForestRegressor(n_estimators=300, random_state=42, n_jobs=-1)\n",
    "}\n",
    "\n",
    "results = {}\n",
    "for name, est in models.items():\n",
    "    pipe = Pipeline([('pre', pre), ('est', est)])\n",
    "    pipe.fit(X_train.drop(columns=['year']), y_train)\n",
    "    pred = pipe.predict(X_test.drop(columns=['year']))\n",
    "    mae = mean_absolute_error(y_test, pred)\n",
    "    mape = mean_absolute_percentage_error(y_test.clip(1e-6, None), np.clip(pred, 1e-6, None))\n",
    "    results[name] = {'MAE': float(mae), 'MAPE': float(mape)}\n",
    "    print(name, results[name])\n",
    "\n",
    "best_name = min(results, key=lambda k: results[k]['MAE'])\n",
    "print('\\nBest by MAE:', best_name, results[best_name])"
   ]
  },
  {
   "cell_type": "code",
   "execution_count": null,
   "id": "#VSC-ed0d420c",
   "metadata": {
    "language": "python"
   },
   "outputs": [],
   "source": [
    "# 6) Validation walk-forward (TimeSeriesSplit) pour robustesse\n",
    "tscv = TimeSeriesSplit(n_splits=4)\n",
    "est = RandomForestRegressor(n_estimators=300, random_state=42, n_jobs=-1)\n",
    "pipe = Pipeline([('pre', pre), ('est', est)])\n",
    "\n",
    "maes = []\n",
    "for fold, (tr, va) in enumerate(tscv.split(X_train, y_train), start=1):\n",
    "    pipe.fit(X_train.drop(columns=['year']).iloc[tr], y_train.iloc[tr])\n",
    "    pred = pipe.predict(X_train.drop(columns=['year']).iloc[va])\n",
    "    mae = mean_absolute_error(y_train.iloc[va], pred)\n",
    "    maes.append(mae)\n",
    "    print(f'Fold {fold} MAE = {mae:.4f}')\n",
    "print('MAE moyen (walk-forward):', float(np.mean(maes)))"
   ]
  },
  {
   "cell_type": "code",
   "execution_count": null,
   "id": "#VSC-934cd618",
   "metadata": {
    "language": "python"
   },
   "outputs": [],
   "source": [
    "# 7) Interprétation globale simple par permutation importance\n",
    "from sklearn.inspection import permutation_importance\n",
    "\n",
    "pipe.fit(X_train.drop(columns=['year']), y_train)\n",
    "r = permutation_importance(pipe, X_test.drop(columns=['year']), y_test, n_repeats=10, random_state=0)\n",
    "# récupérer noms des features après preprocessor\n",
    "ohe = pipe.named_steps['pre'].named_transformers_['onehot']\n",
    "cat_names = list(ohe.get_feature_names_out(['clustercode']))\n",
    "final_feature_names = cat_names + [c for c in X_train.drop(columns=['year']).columns if c not in ['clustercode']]\n",
    "\n",
    "imp = pd.DataFrame({'feature': final_feature_names, 'importance': r.importances_mean}).sort_values('importance', ascending=False)\n",
    "imp.head(15)"
   ]
  },
  {
   "cell_type": "code",
   "execution_count": null,
   "id": "#VSC-9aea21f0",
   "metadata": {
    "language": "python"
   },
   "outputs": [],
   "source": [
    "# 8) Export du modèle et d'un scaler/minimal pipeline (joblib)\n",
    "import joblib\n",
    "joblib.dump(pipe, 'cmr_fts_model_pipeline.joblib')\n",
    "print('Modèle exporté -> cmr_fts_model_pipeline.joblib')"
   ]
  }
 ],
 "metadata": {
  "kernelspec": {
   "display_name": "python3.13.venv (3.13.0)",
   "language": "python",
   "name": "python3"
  },
  "language_info": {
   "codemirror_mode": {
    "name": "ipython",
    "version": 3
   },
   "file_extension": ".py",
   "mimetype": "text/x-python",
   "name": "python",
   "nbconvert_exporter": "python",
   "pygments_lexer": "ipython3",
   "version": "3.13.0"
  }
 },
 "nbformat": 4,
 "nbformat_minor": 5
}
